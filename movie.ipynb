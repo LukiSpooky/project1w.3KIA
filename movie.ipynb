{
 "cells": [
  {
   "cell_type": "markdown",
   "id": "252148fd",
   "metadata": {},
   "source": [
    "## Methode definieren um zu testen"
   ]
  },
  {
   "cell_type": "code",
   "execution_count": null,
   "id": "9257ca15",
   "metadata": {},
   "outputs": [],
   "source": []
  },
  {
   "cell_type": "markdown",
   "id": "3050acff",
   "metadata": {},
   "source": [
    "## Dateien laden"
   ]
  },
  {
   "cell_type": "code",
   "execution_count": 1,
   "id": "7c4d8024",
   "metadata": {},
   "outputs": [
    {
     "ename": "",
     "evalue": "",
     "output_type": "error",
     "traceback": [
      "\u001b[1;31mDer Kernel ist beim Ausführen von Code in der aktuellen Zelle oder einer vorherigen Zelle abgestürzt. \n",
      "\u001b[1;31mBitte überprüfen Sie den Code in der/den Zelle(n), um eine mögliche Fehlerursache zu identifizieren. \n",
      "\u001b[1;31mKlicken Sie <a href='https://aka.ms/vscodeJupyterKernelCrash'>hier</a>, um weitere Informationen zu erhalten. \n",
      "\u001b[1;31mWeitere Informationen finden Sie unter Jupyter <a href='command:jupyter.viewOutput'>Protokoll</a>."
     ]
    }
   ],
   "source": [
    "import pandas as pd\n",
    "import requests\n",
    "from io import BytesIO\n",
    "\n",
    "def load_csv_from_url(url):\n",
    "    response = requests.get(url)\n",
    "    if response.status_code == 200:\n",
    "        return pd.read_csv(BytesIO(response.content))\n",
    "    else:\n",
    "        raise Exception(f\"Download fehlgeschlagen: {url} – Status: {response.status_code}\")\n",
    "\n",
    "# SwitchDrive Download-Links\n",
    "url_imdb_tmdb   = \"https://drive.switch.ch/index.php/s/GknMWjEvz9VhuN4/download\"\n",
    "url_tmdb_credits = \"https://drive.switch.ch/index.php/s/j36PM3I1C0FaX3C/download\"\n",
    "url_tmdb_movies  = \"https://drive.switch.ch/index.php/s/SgdbbF6MkF0fTly/download\"\n",
    "\n",
    "# Lade die CSVs\n",
    "df_imdb_tmdb   = load_csv_from_url(url_imdb_tmdb)\n",
    "df_credits     = load_csv_from_url(url_tmdb_credits)\n",
    "df_movies      = load_csv_from_url(url_tmdb_movies)\n",
    "\n",
    "# Übersicht\n",
    "print(\"IMDB+TMDB Combined:\", df_imdb_tmdb.shape)\n",
    "print(\"TMDB Credits:\", df_credits.shape)\n",
    "print(\"TMDB Movies:\", df_movies.shape)"
   ]
  },
  {
   "cell_type": "markdown",
   "id": "6901c069",
   "metadata": {},
   "source": [
    "## Merge"
   ]
  },
  {
   "cell_type": "code",
   "execution_count": null,
   "id": "0300fac5",
   "metadata": {},
   "outputs": [
    {
     "name": "stdout",
     "output_type": "stream",
     "text": [
      "TMDB Combined: (4803, 24)\n"
     ]
    }
   ],
   "source": [
    "# Sicherstellen, dass die IDs als Integer vorliegen\n",
    "df_movies['id'] = df_movies['id'].astype(int)\n",
    "df_credits['movie_id'] = df_credits['movie_id'].astype(int)\n",
    "\n",
    "# Merge über TMDB Movie ID\n",
    "df_tmdb_merged = pd.merge(df_movies, df_credits, how='inner', left_on='id', right_on='movie_id')\n",
    "\n",
    "print(\"TMDB Combined:\", df_tmdb_merged.shape)"
   ]
  },
  {
   "cell_type": "code",
   "execution_count": null,
   "id": "e3cf1287",
   "metadata": {},
   "outputs": [
    {
     "name": "stdout",
     "output_type": "stream",
     "text": [
      "Index(['budget', 'genres', 'homepage', 'id', 'keywords', 'original_language',\n",
      "       'original_title', 'overview', 'popularity', 'production_companies',\n",
      "       'production_countries', 'release_date', 'revenue', 'runtime',\n",
      "       'spoken_languages', 'status', 'tagline', 'title_x', 'vote_average',\n",
      "       'vote_count', 'movie_id', 'title_y', 'cast', 'crew'],\n",
      "      dtype='object')\n",
      "Index(['id', 'title', 'vote_average', 'vote_count', 'status', 'release_date',\n",
      "       'revenue', 'runtime', 'adult', 'backdrop_path', 'budget', 'homepage',\n",
      "       'imdb_id', 'original_language', 'original_title', 'overview',\n",
      "       'popularity', 'poster_path', 'tagline', 'production_companies',\n",
      "       'production_countries', 'spoken_languages', 'keywords', 'release_year',\n",
      "       'Director', 'AverageRating', 'Poster_Link', 'Certificate',\n",
      "       'IMDB_Rating', 'Meta_score', 'Star1', 'Star2', 'Star3', 'Star4',\n",
      "       'Writer', 'Director_of_Photography', 'Producers', 'Music_Composer',\n",
      "       'genres_list', 'Cast_list', 'overview_sentiment',\n",
      "       'all_combined_keywords'],\n",
      "      dtype='object')\n"
     ]
    }
   ],
   "source": [
    "print(df_tmdb_merged.columns)\n",
    "print(df_imdb_tmdb.columns)"
   ]
  },
  {
   "cell_type": "code",
   "execution_count": null,
   "id": "316e491d",
   "metadata": {},
   "outputs": [
    {
     "name": "stdout",
     "output_type": "stream",
     "text": [
      "Final Shape: (4796, 65)\n"
     ]
    }
   ],
   "source": [
    "# Auch hier sicherstellen, dass IDs Integer sind\n",
    "df_tmdb_merged['id'] = df_tmdb_merged['id'].astype(int)\n",
    "df_imdb_tmdb['id'] = df_imdb_tmdb['id'].astype(int)\n",
    "\n",
    "# Merge über TMDB id\n",
    "df_final = pd.merge(df_tmdb_merged, df_imdb_tmdb, how='inner', on='id')\n",
    "print(\"Final Shape:\", df_final.shape)"
   ]
  },
  {
   "cell_type": "code",
   "execution_count": null,
   "id": "02b6940e",
   "metadata": {},
   "outputs": [
    {
     "name": "stdout",
     "output_type": "stream",
     "text": [
      "['budget_x', 'genres', 'homepage_x', 'id', 'keywords_x', 'original_language_x', 'original_title_x', 'overview_x', 'popularity_x', 'production_companies_x', 'production_countries_x', 'release_date_x', 'revenue_x', 'runtime_x', 'spoken_languages_x', 'status_x', 'tagline_x', 'title_x', 'vote_average_x', 'vote_count_x', 'movie_id', 'title_y', 'cast', 'crew', 'title', 'vote_average_y', 'vote_count_y', 'status_y', 'release_date_y', 'revenue_y', 'runtime_y', 'adult', 'backdrop_path', 'budget_y', 'homepage_y', 'imdb_id', 'original_language_y', 'original_title_y', 'overview_y', 'popularity_y', 'poster_path', 'tagline_y', 'production_companies_y', 'production_countries_y', 'spoken_languages_y', 'keywords_y', 'release_year', 'Director', 'AverageRating', 'Poster_Link', 'Certificate', 'IMDB_Rating', 'Meta_score', 'Star1', 'Star2', 'Star3', 'Star4', 'Writer', 'Director_of_Photography', 'Producers', 'Music_Composer', 'genres_list', 'Cast_list', 'overview_sentiment', 'all_combined_keywords']\n"
     ]
    }
   ],
   "source": [
    "print(df_final.columns.tolist())"
   ]
  },
  {
   "cell_type": "code",
   "execution_count": null,
   "id": "bf495f26",
   "metadata": {},
   "outputs": [],
   "source": [
    "# Alle Spalten mit _y löschen\n",
    "df_final = df_final.drop(columns=[col for col in df_final.columns if col.endswith('_y')])\n",
    "\n",
    "# Alle Spalten mit _x in umbenennen\n",
    "df_final = df_final.rename(columns={col: col.replace('_x', '') for col in df_final.columns if col.endswith('_x')})"
   ]
  },
  {
   "cell_type": "code",
   "execution_count": null,
   "id": "c8f4e46e",
   "metadata": {},
   "outputs": [
    {
     "name": "stdout",
     "output_type": "stream",
     "text": [
      "Spaltenübersicht nach _y/_x Bereinigung:\n",
      "['budget', 'genres', 'homepage', 'id', 'keywords', 'original_language', 'original_title', 'overview', 'popularity', 'production_companies', 'production_countries', 'release_date', 'revenue', 'runtime', 'spoken_languages', 'status', 'tagline', 'title', 'vote_average', 'vote_count', 'movie_id', 'cast', 'crew', 'title', 'adult', 'backdrop_path', 'imdb_id', 'poster_path', 'release_year', 'Director', 'AverageRating', 'Poster_Link', 'Certificate', 'IMDB_Rating', 'Meta_score', 'Star1', 'Star2', 'Star3', 'Star4', 'Writer', 'Director_of_Photography', 'Producers', 'Music_Composer', 'genres_list', 'Cast_list', 'overview_sentiment', 'all_combined_keywords']\n"
     ]
    }
   ],
   "source": [
    "print(\"Spaltenübersicht nach _y/_x Bereinigung:\")\n",
    "print(df_final.columns.tolist())"
   ]
  },
  {
   "cell_type": "code",
   "execution_count": null,
   "id": "f36228f9",
   "metadata": {},
   "outputs": [],
   "source": [
    "features_base = ['budget', 'popularity']\n",
    "df_results = evaluate_models(df_final, features_base)\n",
    "print(\"Ergebnis nach Basis-Features:\")\n",
    "print(df_results)"
   ]
  },
  {
   "cell_type": "code",
   "execution_count": null,
   "id": "0997dc12",
   "metadata": {},
   "outputs": [
    {
     "name": "stdout",
     "output_type": "stream",
     "text": [
      "Shape nach Bereinigung: (3229, 47)\n"
     ]
    }
   ],
   "source": [
    "# Nur Filme mit gültigem Umsatz und Budget\n",
    "df_final_clean = df_final[(df_final['revenue'] > 0) & (df_final['budget'] > 0)].copy()\n",
    "\n",
    "# Umbenennen für Klarheit\n",
    "df_final_clean = df_final_clean.rename(columns={\n",
    "    'revenue': 'revenue',\n",
    "    'budget': 'budget'\n",
    "})\n",
    "\n",
    "print(\"Shape nach Bereinigung:\", df_final_clean.shape)"
   ]
  },
  {
   "cell_type": "code",
   "execution_count": null,
   "id": "17143f36",
   "metadata": {},
   "outputs": [],
   "source": [
    "from sklearn.model_selection import train_test_split\n",
    "from sklearn.linear_model import LinearRegression\n",
    "from sklearn.ensemble import RandomForestRegressor\n",
    "from sklearn.metrics import r2_score, mean_absolute_error, mean_squared_error\n",
    "import numpy as np\n",
    "import pandas as pd\n",
    "\n",
    "def evaluate_models(df, features, target='revenue'):\n",
    "    df = df[features + [target]].dropna()\n",
    "    X = df[features]\n",
    "    y = df[target]\n",
    "    \n",
    "    X_train, X_test, y_train, y_test = train_test_split(X, y, test_size=0.2, random_state=42)\n",
    "\n",
    "    results = []\n",
    "\n",
    "    for name, model in [(\"Linear Regression\", LinearRegression()),\n",
    "                        (\"Random Forest\", RandomForestRegressor(n_estimators=100, random_state=42))]:\n",
    "        model.fit(X_train, y_train)\n",
    "        y_pred = model.predict(X_test)\n",
    "\n",
    "        r2 = r2_score(y_test, y_pred)\n",
    "        mae = mean_absolute_error(y_test, y_pred)\n",
    "        rmse = np.sqrt(mean_squared_error(y_test, y_pred))\n",
    "\n",
    "        results.append({\n",
    "            'Model': name,\n",
    "            'Features': len(features),\n",
    "            'R²': round(r2, 3),\n",
    "            'MAE (Mio $)': round(mae / 1_000_000, 2),\n",
    "            'RMSE (Mio $)': round(rmse / 1_000_000, 2)\n",
    "        })\n",
    "\n",
    "    return pd.DataFrame(results)"
   ]
  },
  {
   "cell_type": "code",
   "execution_count": null,
   "id": "d084d154",
   "metadata": {},
   "outputs": [],
   "source": [
    "features_base = ['budget', 'popularity']\n",
    "df_results = evaluate_models(df_final_clean, features_base)\n",
    "print(\"Ergebnis nach Basis-Feature-Bereinigung:\")\n",
    "print(df_results)"
   ]
  },
  {
   "cell_type": "code",
   "execution_count": null,
   "id": "3fc4b900",
   "metadata": {},
   "outputs": [],
   "source": [
    "df_final_clean = df_final_clean.rename(columns={'title_x': 'title'})\n",
    "df_final_clean = df_final_clean.drop(columns=['title']) "
   ]
  },
  {
   "cell_type": "markdown",
   "id": "39eb31af",
   "metadata": {},
   "source": [
    "## Feature engineering"
   ]
  },
  {
   "cell_type": "markdown",
   "id": "06662850",
   "metadata": {},
   "source": [
    "### Schauspieler extrahieren"
   ]
  },
  {
   "cell_type": "code",
   "execution_count": null,
   "id": "1a3609cb",
   "metadata": {},
   "outputs": [],
   "source": [
    "import ast\n",
    "\n",
    "# Konvertiere JSON-ähnliche Strings zu Python-Listen\n",
    "df_final_clean['cast'] = df_final_clean['cast'].apply(lambda x: ast.literal_eval(x) if pd.notnull(x) else [])\n",
    "\n",
    "# Extrahiere den Namen der ersten Person im Cast\n",
    "df_final_clean['lead_actor'] = df_final_clean['cast'].apply(lambda x: x[0]['name'] if len(x) > 0 and 'name' in x[0] else None)"
   ]
  },
  {
   "cell_type": "code",
   "execution_count": null,
   "id": "00f23878",
   "metadata": {},
   "outputs": [
    {
     "name": "stdout",
     "output_type": "stream",
     "text": [
      "                             original_title         lead_actor\n",
      "0                                    Avatar    Sam Worthington\n",
      "1  Pirates of the Caribbean: At World's End        Johnny Depp\n",
      "2                                   Spectre       Daniel Craig\n",
      "3                     The Dark Knight Rises     Christian Bale\n",
      "4                               John Carter      Taylor Kitsch\n",
      "5                              Spider-Man 3      Tobey Maguire\n",
      "6                                   Tangled       Zachary Levi\n",
      "7                   Avengers: Age of Ultron  Robert Downey Jr.\n",
      "8    Harry Potter and the Half-Blood Prince   Daniel Radcliffe\n",
      "9        Batman v Superman: Dawn of Justice        Ben Affleck\n"
     ]
    }
   ],
   "source": [
    "print(df_final_clean[['original_title', 'lead_actor']].head(10))"
   ]
  },
  {
   "cell_type": "code",
   "execution_count": null,
   "id": "796f4fab",
   "metadata": {},
   "outputs": [],
   "source": [
    "features_with_actor = ['budget', 'popularity', 'lead_actor']\n",
    "df_results = evaluate_models(df_final_clean, features_with_actor)\n",
    "print(\"Ergebnis nach lead_actor:\")\n",
    "print(df_results)"
   ]
  },
  {
   "cell_type": "markdown",
   "id": "d3449b6a",
   "metadata": {},
   "source": [
    "#### Wie oft ist der Schauspieler vorhanden (= lead_actor_freq)"
   ]
  },
  {
   "cell_type": "code",
   "execution_count": null,
   "id": "2de1400a",
   "metadata": {},
   "outputs": [],
   "source": [
    "actor_freq = df_final_clean['lead_actor'].value_counts()\n",
    "df_final_clean['lead_actor_freq'] = df_final_clean['lead_actor'].map(actor_freq)"
   ]
  },
  {
   "cell_type": "code",
   "execution_count": null,
   "id": "4463b245",
   "metadata": {},
   "outputs": [],
   "source": [
    "features_with_actor = ['budget', 'popularity', 'lead_actor', 'lead_actor_freq']\n",
    "df_results = evaluate_models(df_final_clean, features_with_actor)\n",
    "print(\"Ergebnis nach lead_actor_freq:\")\n",
    "print(df_results)"
   ]
  },
  {
   "cell_type": "markdown",
   "id": "0a17abad",
   "metadata": {},
   "source": [
    "### Genre extrahieren"
   ]
  },
  {
   "cell_type": "code",
   "execution_count": null,
   "id": "71e96542",
   "metadata": {},
   "outputs": [],
   "source": [
    "from sklearn.preprocessing import MultiLabelBinarizer\n",
    "\n",
    "# 'genres' von String zu Liste konvertieren\n",
    "df_final_clean['genres'] = df_final_clean['genres'].apply(lambda x: ast.literal_eval(x) if pd.notnull(x) else [])\n",
    "\n",
    "df_final_clean['genre_names'] = df_final_clean['genres'].apply(lambda genre_list: [g['name'] for g in genre_list])\n",
    "\n",
    "mlb = MultiLabelBinarizer()\n",
    "genre_dummies = pd.DataFrame(mlb.fit_transform(df_final_clean['genre_names']),\n",
    "                              columns=mlb.classes_,\n",
    "                              index=df_final_clean.index)\n",
    "\n",
    "# Dummies zum DataFrame hinzufügen\n",
    "df_final_clean = pd.concat([df_final_clean, genre_dummies], axis=1)"
   ]
  },
  {
   "cell_type": "code",
   "execution_count": null,
   "id": "e8c557fc",
   "metadata": {},
   "outputs": [
    {
     "name": "stdout",
     "output_type": "stream",
     "text": [
      "   Action  Adventure  Animation  Comedy  Crime  Documentary  Drama  Family  \\\n",
      "0       1          1          0       0      0            0      0       0   \n",
      "1       1          1          0       0      0            0      0       0   \n",
      "2       1          1          0       0      1            0      0       0   \n",
      "3       1          0          0       0      1            0      1       0   \n",
      "4       1          1          0       0      0            0      0       0   \n",
      "\n",
      "   Fantasy  Foreign  History  Horror  Music  Mystery  Romance  \\\n",
      "0        1        0        0       0      0        0        0   \n",
      "1        1        0        0       0      0        0        0   \n",
      "2        0        0        0       0      0        0        0   \n",
      "3        0        0        0       0      0        0        0   \n",
      "4        0        0        0       0      0        0        0   \n",
      "\n",
      "   Science Fiction  Thriller  War  Western  \n",
      "0                1         0    0        0  \n",
      "1                0         0    0        0  \n",
      "2                0         0    0        0  \n",
      "3                0         1    0        0  \n",
      "4                1         0    0        0  \n",
      "Neue Spalten: ['Action', 'Adventure', 'Animation', 'Comedy', 'Crime', 'Documentary', 'Drama', 'Family', 'Fantasy', 'Foreign', 'History', 'Horror', 'Music', 'Mystery', 'Romance', 'Science Fiction', 'Thriller', 'War', 'Western']\n"
     ]
    }
   ],
   "source": [
    "print(genre_dummies.head())\n",
    "print(\"Neue Spalten:\", genre_dummies.columns.tolist())"
   ]
  },
  {
   "cell_type": "code",
   "execution_count": null,
   "id": "5b7bc3b1",
   "metadata": {},
   "outputs": [],
   "source": [
    "genre_features = ['Action', 'Drama', 'Comedy', 'Thriller']\n",
    "features_with_genres = ['budget', 'popularity', 'lead_actor', 'lead_actor_freq'] + genre_features\n",
    "df_results = evaluate_models(df_final_clean, features_with_genres)\n",
    "print(\"Ergebnis nach Genre-Encoding:\")\n",
    "print(df_results)"
   ]
  },
  {
   "cell_type": "markdown",
   "id": "a9ae610f",
   "metadata": {},
   "source": [
    "### weitere Features"
   ]
  },
  {
   "cell_type": "code",
   "execution_count": null,
   "id": "5abd0e28",
   "metadata": {},
   "outputs": [],
   "source": [
    "# Durchschnittlicher Revenue pro Director\n",
    "director_avg_revenue = df_final_clean.groupby('Director')['revenue'].mean()\n",
    "\n",
    "# Neue Spalte hinzufügen (nicht ersetzen)\n",
    "df_final_clean['director_avg_revenue'] = df_final_clean['Director'].map(director_avg_revenue)"
   ]
  },
  {
   "cell_type": "code",
   "execution_count": null,
   "id": "b0271f4c",
   "metadata": {},
   "outputs": [],
   "source": [
    "features_with_director = features_with_genres + ['director_avg_revenue']\n",
    "df_results = evaluate_models(df_final_clean, features_with_director)\n",
    "print(\"Ergebnis nach Hinzufügen von director_avg_revenue:\")\n",
    "print(df_results)"
   ]
  },
  {
   "cell_type": "code",
   "execution_count": null,
   "id": "5453117e",
   "metadata": {},
   "outputs": [],
   "source": [
    "# Durchschnittlicher Revenue pro Hauptdarsteller\n",
    "actor_avg_revenue = df_final_clean.groupby('lead_actor')['revenue'].mean()\n",
    "\n",
    "# Neue Spalte hinzufügen\n",
    "df_final_clean['lead_actor_avg_revenue'] = df_final_clean['lead_actor'].map(actor_avg_revenue)"
   ]
  },
  {
   "cell_type": "code",
   "execution_count": null,
   "id": "35fce6cc",
   "metadata": {},
   "outputs": [],
   "source": [
    "features_with_actor = features_with_director + ['lead_actor_avg_revenue']\n",
    "df_results = evaluate_models(df_final_clean, features_with_actor)\n",
    "print(\"Ergebnis nach Hinzufügen von lead_actor_avg_revenue:\")\n",
    "print(df_results)"
   ]
  },
  {
   "cell_type": "code",
   "execution_count": null,
   "id": "47be9231",
   "metadata": {},
   "outputs": [
    {
     "name": "stdout",
     "output_type": "stream",
     "text": [
      "                             original_title                      Director  \\\n",
      "0                                    Avatar                 James Cameron   \n",
      "1  Pirates of the Caribbean: At World's End                  George Lucas   \n",
      "2                                   Spectre  Danny Boyle, Loveleen Tandan   \n",
      "3                     The Dark Knight Rises             Christopher Nolan   \n",
      "4                               John Carter                  Wes Anderson   \n",
      "\n",
      "   director_avg_revenue       lead_actor  lead_actor_avg_revenue  \n",
      "0          7.447307e+08  Sam Worthington            8.419749e+08  \n",
      "1          6.374869e+08      Johnny Depp            2.430666e+08  \n",
      "2          8.806746e+08     Daniel Craig            4.323967e+08  \n",
      "3          6.307131e+08   Christian Bale            2.447794e+08  \n",
      "4          1.065078e+08    Taylor Kitsch            2.935823e+08  \n"
     ]
    }
   ],
   "source": [
    "print(df_final_clean[['original_title', 'Director', 'director_avg_revenue', 'lead_actor', 'lead_actor_avg_revenue']].head())"
   ]
  },
  {
   "cell_type": "code",
   "execution_count": null,
   "id": "6a6f712d",
   "metadata": {},
   "outputs": [],
   "source": [
    "features = [\n",
    "    'budget', 'popularity', 'vote_average', 'vote_count',\n",
    "    'runtime', 'release_year',\n",
    "    'director_avg_revenue', 'lead_actor_avg_revenue'\n",
    "]\n",
    "\n",
    "# + alle Genre-Spalten\n",
    "genre_cols = [col for col in df_final_clean.columns if col in [\n",
    "    'Action', 'Drama', 'Comedy', 'Adventure', 'Thriller', 'Science Fiction',\n",
    "    'Crime', 'Romance', 'Horror', 'Animation', 'Family', 'Fantasy'\n",
    "]]\n",
    "features += genre_cols\n",
    "\n",
    "# Zielvariable\n",
    "target = 'revenue'"
   ]
  },
  {
   "cell_type": "code",
   "execution_count": null,
   "id": "6f3bc1f4",
   "metadata": {},
   "outputs": [],
   "source": [
    "from sklearn.model_selection import train_test_split\n",
    "\n",
    "df_model = df_final_clean[features + [target]].dropna()\n",
    "\n",
    "X = df_model[features]\n",
    "y = df_model[target]\n",
    "\n",
    "from sklearn.model_selection import train_test_split\n",
    "X_train, X_test, y_train, y_test = train_test_split(X, y, test_size=0.2, random_state=42)"
   ]
  },
  {
   "cell_type": "code",
   "execution_count": null,
   "id": "3a3d227a",
   "metadata": {},
   "outputs": [
    {
     "name": "stdout",
     "output_type": "stream",
     "text": [
      "\n",
      " Linear Regression\n",
      "R²: 0.7386154483555176\n",
      "MAE: 60509322.32686698\n",
      "RMSE: 116114972.22562446\n",
      "\n",
      " Random Forest\n",
      "R²: 0.7819831929802866\n",
      "MAE: 42272932.01041796\n",
      "RMSE: 106045746.07819472\n"
     ]
    }
   ],
   "source": [
    "from sklearn.linear_model import LinearRegression\n",
    "from sklearn.ensemble import RandomForestRegressor\n",
    "from sklearn.metrics import mean_absolute_error, mean_squared_error, r2_score\n",
    "import numpy as np\n",
    "\n",
    "def evaluate_model(model, X_test, y_test, name):\n",
    "    preds = model.predict(X_test)\n",
    "    print(f\"\\n {name}\")\n",
    "    print(\"R²:\", r2_score(y_test, preds))\n",
    "    print(\"MAE:\", mean_absolute_error(y_test, preds))\n",
    "    print(\"RMSE:\", np.sqrt(mean_squared_error(y_test, preds)))\n",
    "\n",
    "def evaluate_both_models(X_train, X_test, y_train, y_test):\n",
    "    # Linear Regression\n",
    "    lr = LinearRegression()\n",
    "    lr.fit(X_train, y_train)\n",
    "    evaluate_model(lr, X_test, y_test, \"Linear Regression\")\n",
    "\n",
    "    # Random Forest\n",
    "    rf = RandomForestRegressor(n_estimators=100, random_state=42)\n",
    "    rf.fit(X_train, y_train)\n",
    "    evaluate_model(rf, X_test, y_test, \"Random Forest\")\n",
    "\n",
    "\n",
    "evaluate_both_models(X_train, X_test, y_train, y_test)"
   ]
  },
  {
   "cell_type": "code",
   "execution_count": null,
   "id": "73f1c8ee",
   "metadata": {},
   "outputs": [
    {
     "name": "stdout",
     "output_type": "stream",
     "text": [
      "Modell und Featureliste erfolgreich gespeichert.\n"
     ]
    }
   ],
   "source": [
    "import joblib\n",
    "\n",
    "# Speichere das trainierte Random Forest Modell\n",
    "joblib.dump(rf, 'model.pkl')\n",
    "\n",
    "# Speichere die verwendeten Feature-Namen (wichtig für Gradio)\n",
    "joblib.dump(features, 'features.pkl')\n",
    "\n",
    "print(\"Modell und Featureliste erfolgreich gespeichert.\")"
   ]
  }
 ],
 "metadata": {
  "kernelspec": {
   "display_name": "Python 3",
   "language": "python",
   "name": "python3"
  },
  "language_info": {
   "codemirror_mode": {
    "name": "ipython",
    "version": 3
   },
   "file_extension": ".py",
   "mimetype": "text/x-python",
   "name": "python",
   "nbconvert_exporter": "python",
   "pygments_lexer": "ipython3",
   "version": "3.12.1"
  }
 },
 "nbformat": 4,
 "nbformat_minor": 5
}
