{
 "cells": [
  {
   "cell_type": "markdown",
   "id": "3050acff",
   "metadata": {},
   "source": [
    "## Dateien laden"
   ]
  },
  {
   "cell_type": "code",
   "execution_count": 1,
   "id": "7c4d8024",
   "metadata": {},
   "outputs": [
    {
     "name": "stdout",
     "output_type": "stream",
     "text": [
      "IMDB+TMDB Combined: (1072255, 42)\n",
      "TMDB Credits: (4803, 4)\n",
      "TMDB Movies: (4803, 20)\n"
     ]
    }
   ],
   "source": [
    "import pandas as pd\n",
    "import requests\n",
    "from io import BytesIO\n",
    "\n",
    "def load_csv_from_url(url):\n",
    "    response = requests.get(url)\n",
    "    if response.status_code == 200:\n",
    "        return pd.read_csv(BytesIO(response.content))\n",
    "    else:\n",
    "        raise Exception(f\"Download fehlgeschlagen: {url} – Status: {response.status_code}\")\n",
    "\n",
    "# SwitchDrive Download-Links\n",
    "url_imdb_tmdb   = \"https://drive.switch.ch/index.php/s/GknMWjEvz9VhuN4/download\"\n",
    "url_tmdb_credits = \"https://drive.switch.ch/index.php/s/j36PM3I1C0FaX3C/download\"\n",
    "url_tmdb_movies  = \"https://drive.switch.ch/index.php/s/SgdbbF6MkF0fTly/download\"\n",
    "\n",
    "# Lade die CSVs\n",
    "df_imdb_tmdb   = load_csv_from_url(url_imdb_tmdb)\n",
    "df_credits     = load_csv_from_url(url_tmdb_credits)\n",
    "df_movies      = load_csv_from_url(url_tmdb_movies)\n",
    "\n",
    "# Übersicht\n",
    "print(\"IMDB+TMDB Combined:\", df_imdb_tmdb.shape)\n",
    "print(\"TMDB Credits:\", df_credits.shape)\n",
    "print(\"TMDB Movies:\", df_movies.shape)\n"
   ]
  },
  {
   "cell_type": "markdown",
   "id": "6901c069",
   "metadata": {},
   "source": [
    "## Merge"
   ]
  },
  {
   "cell_type": "code",
   "execution_count": 2,
   "id": "0300fac5",
   "metadata": {},
   "outputs": [
    {
     "name": "stdout",
     "output_type": "stream",
     "text": [
      "TMDB Combined: (4803, 24)\n"
     ]
    }
   ],
   "source": [
    "# Sicherstellen, dass die IDs als Integer vorliegen\n",
    "df_movies['id'] = df_movies['id'].astype(int)\n",
    "df_credits['movie_id'] = df_credits['movie_id'].astype(int)\n",
    "\n",
    "# Merge über TMDB Movie ID\n",
    "df_tmdb_merged = pd.merge(df_movies, df_credits, how='inner', left_on='id', right_on='movie_id')\n",
    "\n",
    "print(\"TMDB Combined:\", df_tmdb_merged.shape)\n"
   ]
  },
  {
   "cell_type": "code",
   "execution_count": 3,
   "id": "e3cf1287",
   "metadata": {},
   "outputs": [
    {
     "name": "stdout",
     "output_type": "stream",
     "text": [
      "Index(['budget', 'genres', 'homepage', 'id', 'keywords', 'original_language',\n",
      "       'original_title', 'overview', 'popularity', 'production_companies',\n",
      "       'production_countries', 'release_date', 'revenue', 'runtime',\n",
      "       'spoken_languages', 'status', 'tagline', 'title_x', 'vote_average',\n",
      "       'vote_count', 'movie_id', 'title_y', 'cast', 'crew'],\n",
      "      dtype='object')\n",
      "Index(['id', 'title', 'vote_average', 'vote_count', 'status', 'release_date',\n",
      "       'revenue', 'runtime', 'adult', 'backdrop_path', 'budget', 'homepage',\n",
      "       'imdb_id', 'original_language', 'original_title', 'overview',\n",
      "       'popularity', 'poster_path', 'tagline', 'production_companies',\n",
      "       'production_countries', 'spoken_languages', 'keywords', 'release_year',\n",
      "       'Director', 'AverageRating', 'Poster_Link', 'Certificate',\n",
      "       'IMDB_Rating', 'Meta_score', 'Star1', 'Star2', 'Star3', 'Star4',\n",
      "       'Writer', 'Director_of_Photography', 'Producers', 'Music_Composer',\n",
      "       'genres_list', 'Cast_list', 'overview_sentiment',\n",
      "       'all_combined_keywords'],\n",
      "      dtype='object')\n"
     ]
    }
   ],
   "source": [
    "print(df_tmdb_merged.columns)\n",
    "print(df_imdb_tmdb.columns)\n"
   ]
  },
  {
   "cell_type": "code",
   "execution_count": 4,
   "id": "316e491d",
   "metadata": {},
   "outputs": [
    {
     "name": "stdout",
     "output_type": "stream",
     "text": [
      "Final Shape: (4796, 65)\n"
     ]
    }
   ],
   "source": [
    "# Auch hier sicherstellen, dass IDs Integer sind\n",
    "df_tmdb_merged['id'] = df_tmdb_merged['id'].astype(int)\n",
    "df_imdb_tmdb['id'] = df_imdb_tmdb['id'].astype(int)\n",
    "\n",
    "# Merge über TMDB id\n",
    "df_final = pd.merge(df_tmdb_merged, df_imdb_tmdb, how='inner', on='id')\n",
    "print(\"Final Shape:\", df_final.shape)"
   ]
  },
  {
   "cell_type": "code",
   "execution_count": 5,
   "id": "02b6940e",
   "metadata": {},
   "outputs": [
    {
     "name": "stdout",
     "output_type": "stream",
     "text": [
      "['budget_x', 'genres', 'homepage_x', 'id', 'keywords_x', 'original_language_x', 'original_title_x', 'overview_x', 'popularity_x', 'production_companies_x', 'production_countries_x', 'release_date_x', 'revenue_x', 'runtime_x', 'spoken_languages_x', 'status_x', 'tagline_x', 'title_x', 'vote_average_x', 'vote_count_x', 'movie_id', 'title_y', 'cast', 'crew', 'title', 'vote_average_y', 'vote_count_y', 'status_y', 'release_date_y', 'revenue_y', 'runtime_y', 'adult', 'backdrop_path', 'budget_y', 'homepage_y', 'imdb_id', 'original_language_y', 'original_title_y', 'overview_y', 'popularity_y', 'poster_path', 'tagline_y', 'production_companies_y', 'production_countries_y', 'spoken_languages_y', 'keywords_y', 'release_year', 'Director', 'AverageRating', 'Poster_Link', 'Certificate', 'IMDB_Rating', 'Meta_score', 'Star1', 'Star2', 'Star3', 'Star4', 'Writer', 'Director_of_Photography', 'Producers', 'Music_Composer', 'genres_list', 'Cast_list', 'overview_sentiment', 'all_combined_keywords']\n"
     ]
    }
   ],
   "source": [
    "print(df_final.columns.tolist())\n"
   ]
  },
  {
   "cell_type": "code",
   "execution_count": 8,
   "id": "bf495f26",
   "metadata": {},
   "outputs": [],
   "source": [
    "# Alle Spalten mit _y löschen\n",
    "df_final = df_final.drop(columns=[col for col in df_final.columns if col.endswith('_y')])\n",
    "\n",
    "# Alle Spalten mit _x in umbenennen\n",
    "df_final = df_final.rename(columns={col: col.replace('_x', '') for col in df_final.columns if col.endswith('_x')})\n"
   ]
  },
  {
   "cell_type": "code",
   "execution_count": 10,
   "id": "c8f4e46e",
   "metadata": {},
   "outputs": [
    {
     "name": "stdout",
     "output_type": "stream",
     "text": [
      "Spaltenübersicht nach _y/_x Bereinigung:\n",
      "['budget', 'genres', 'homepage', 'id', 'keywords', 'original_language', 'original_title', 'overview', 'popularity', 'production_companies', 'production_countries', 'release_date', 'revenue', 'runtime', 'spoken_languages', 'status', 'tagline', 'title', 'vote_average', 'vote_count', 'movie_id', 'cast', 'crew', 'title', 'adult', 'backdrop_path', 'imdb_id', 'poster_path', 'release_year', 'Director', 'AverageRating', 'Poster_Link', 'Certificate', 'IMDB_Rating', 'Meta_score', 'Star1', 'Star2', 'Star3', 'Star4', 'Writer', 'Director_of_Photography', 'Producers', 'Music_Composer', 'genres_list', 'Cast_list', 'overview_sentiment', 'all_combined_keywords']\n"
     ]
    }
   ],
   "source": [
    "print(\"Spaltenübersicht nach _y/_x Bereinigung:\")\n",
    "print(df_final.columns.tolist())\n"
   ]
  },
  {
   "cell_type": "code",
   "execution_count": 11,
   "id": "0997dc12",
   "metadata": {},
   "outputs": [
    {
     "name": "stdout",
     "output_type": "stream",
     "text": [
      "Shape nach Bereinigung: (3229, 47)\n"
     ]
    }
   ],
   "source": [
    "# Nur Filme mit gültigem Umsatz und Budget\n",
    "df_final_clean = df_final[(df_final['revenue'] > 0) & (df_final['budget'] > 0)].copy()\n",
    "\n",
    "# Umbenennen für Klarheit\n",
    "df_final_clean = df_final_clean.rename(columns={\n",
    "    'revenue': 'revenue',\n",
    "    'budget': 'budget'\n",
    "})\n",
    "\n",
    "print(\"Shape nach Bereinigung:\", df_final_clean.shape)\n"
   ]
  }
 ],
 "metadata": {
  "kernelspec": {
   "display_name": "Python 3",
   "language": "python",
   "name": "python3"
  },
  "language_info": {
   "codemirror_mode": {
    "name": "ipython",
    "version": 3
   },
   "file_extension": ".py",
   "mimetype": "text/x-python",
   "name": "python",
   "nbconvert_exporter": "python",
   "pygments_lexer": "ipython3",
   "version": "3.12.1"
  }
 },
 "nbformat": 4,
 "nbformat_minor": 5
}
